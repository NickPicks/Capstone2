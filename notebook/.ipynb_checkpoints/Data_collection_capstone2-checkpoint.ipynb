{
 "cells": [
  {
   "cell_type": "raw",
   "metadata": {},
   "source": [
    "Inital Data Collection Colorado single family homes"
   ]
  },
  {
   "cell_type": "code",
   "execution_count": 1,
   "metadata": {},
   "outputs": [],
   "source": [
    "#Imports\n",
    "import pandas as pd\n",
    "import numpy as np\n",
    "import matplotlib.pyplot as plt"
   ]
  },
  {
   "cell_type": "code",
   "execution_count": 2,
   "metadata": {},
   "outputs": [
    {
     "ename": "FileNotFoundError",
     "evalue": "[Errno 2] No such file or directory: '../raw_data/zillow_by_city'",
     "output_type": "error",
     "traceback": [
      "\u001b[1;31m---------------------------------------------------------------------------\u001b[0m",
      "\u001b[1;31mFileNotFoundError\u001b[0m                         Traceback (most recent call last)",
      "\u001b[1;32m<ipython-input-2-774f099abf4b>\u001b[0m in \u001b[0;36m<module>\u001b[1;34m\u001b[0m\n\u001b[0;32m      1\u001b[0m \u001b[1;31m#bring in my first(maybe only file)\u001b[0m\u001b[1;33m\u001b[0m\u001b[1;33m\u001b[0m\u001b[1;33m\u001b[0m\u001b[0m\n\u001b[1;32m----> 2\u001b[1;33m \u001b[0mhealth_data\u001b[0m \u001b[1;33m=\u001b[0m \u001b[0mpd\u001b[0m\u001b[1;33m.\u001b[0m\u001b[0mread_csv\u001b[0m\u001b[1;33m(\u001b[0m\u001b[1;34m\"../raw_data/zillow_by_city\"\u001b[0m\u001b[1;33m)\u001b[0m\u001b[1;33m\u001b[0m\u001b[1;33m\u001b[0m\u001b[0m\n\u001b[0m\u001b[0;32m      3\u001b[0m \u001b[0mhealth_data\u001b[0m\u001b[1;33m.\u001b[0m\u001b[0mhead\u001b[0m\u001b[1;33m(\u001b[0m\u001b[1;33m)\u001b[0m\u001b[1;33m\u001b[0m\u001b[1;33m\u001b[0m\u001b[0m\n",
      "\u001b[1;32m~\\anaconda3\\lib\\site-packages\\pandas\\io\\parsers.py\u001b[0m in \u001b[0;36mread_csv\u001b[1;34m(filepath_or_buffer, sep, delimiter, header, names, index_col, usecols, squeeze, prefix, mangle_dupe_cols, dtype, engine, converters, true_values, false_values, skipinitialspace, skiprows, skipfooter, nrows, na_values, keep_default_na, na_filter, verbose, skip_blank_lines, parse_dates, infer_datetime_format, keep_date_col, date_parser, dayfirst, cache_dates, iterator, chunksize, compression, thousands, decimal, lineterminator, quotechar, quoting, doublequote, escapechar, comment, encoding, dialect, error_bad_lines, warn_bad_lines, delim_whitespace, low_memory, memory_map, float_precision)\u001b[0m\n\u001b[0;32m    684\u001b[0m     )\n\u001b[0;32m    685\u001b[0m \u001b[1;33m\u001b[0m\u001b[0m\n\u001b[1;32m--> 686\u001b[1;33m     \u001b[1;32mreturn\u001b[0m \u001b[0m_read\u001b[0m\u001b[1;33m(\u001b[0m\u001b[0mfilepath_or_buffer\u001b[0m\u001b[1;33m,\u001b[0m \u001b[0mkwds\u001b[0m\u001b[1;33m)\u001b[0m\u001b[1;33m\u001b[0m\u001b[1;33m\u001b[0m\u001b[0m\n\u001b[0m\u001b[0;32m    687\u001b[0m \u001b[1;33m\u001b[0m\u001b[0m\n\u001b[0;32m    688\u001b[0m \u001b[1;33m\u001b[0m\u001b[0m\n",
      "\u001b[1;32m~\\anaconda3\\lib\\site-packages\\pandas\\io\\parsers.py\u001b[0m in \u001b[0;36m_read\u001b[1;34m(filepath_or_buffer, kwds)\u001b[0m\n\u001b[0;32m    450\u001b[0m \u001b[1;33m\u001b[0m\u001b[0m\n\u001b[0;32m    451\u001b[0m     \u001b[1;31m# Create the parser.\u001b[0m\u001b[1;33m\u001b[0m\u001b[1;33m\u001b[0m\u001b[1;33m\u001b[0m\u001b[0m\n\u001b[1;32m--> 452\u001b[1;33m     \u001b[0mparser\u001b[0m \u001b[1;33m=\u001b[0m \u001b[0mTextFileReader\u001b[0m\u001b[1;33m(\u001b[0m\u001b[0mfp_or_buf\u001b[0m\u001b[1;33m,\u001b[0m \u001b[1;33m**\u001b[0m\u001b[0mkwds\u001b[0m\u001b[1;33m)\u001b[0m\u001b[1;33m\u001b[0m\u001b[1;33m\u001b[0m\u001b[0m\n\u001b[0m\u001b[0;32m    453\u001b[0m \u001b[1;33m\u001b[0m\u001b[0m\n\u001b[0;32m    454\u001b[0m     \u001b[1;32mif\u001b[0m \u001b[0mchunksize\u001b[0m \u001b[1;32mor\u001b[0m \u001b[0miterator\u001b[0m\u001b[1;33m:\u001b[0m\u001b[1;33m\u001b[0m\u001b[1;33m\u001b[0m\u001b[0m\n",
      "\u001b[1;32m~\\anaconda3\\lib\\site-packages\\pandas\\io\\parsers.py\u001b[0m in \u001b[0;36m__init__\u001b[1;34m(self, f, engine, **kwds)\u001b[0m\n\u001b[0;32m    944\u001b[0m             \u001b[0mself\u001b[0m\u001b[1;33m.\u001b[0m\u001b[0moptions\u001b[0m\u001b[1;33m[\u001b[0m\u001b[1;34m\"has_index_names\"\u001b[0m\u001b[1;33m]\u001b[0m \u001b[1;33m=\u001b[0m \u001b[0mkwds\u001b[0m\u001b[1;33m[\u001b[0m\u001b[1;34m\"has_index_names\"\u001b[0m\u001b[1;33m]\u001b[0m\u001b[1;33m\u001b[0m\u001b[1;33m\u001b[0m\u001b[0m\n\u001b[0;32m    945\u001b[0m \u001b[1;33m\u001b[0m\u001b[0m\n\u001b[1;32m--> 946\u001b[1;33m         \u001b[0mself\u001b[0m\u001b[1;33m.\u001b[0m\u001b[0m_make_engine\u001b[0m\u001b[1;33m(\u001b[0m\u001b[0mself\u001b[0m\u001b[1;33m.\u001b[0m\u001b[0mengine\u001b[0m\u001b[1;33m)\u001b[0m\u001b[1;33m\u001b[0m\u001b[1;33m\u001b[0m\u001b[0m\n\u001b[0m\u001b[0;32m    947\u001b[0m \u001b[1;33m\u001b[0m\u001b[0m\n\u001b[0;32m    948\u001b[0m     \u001b[1;32mdef\u001b[0m \u001b[0mclose\u001b[0m\u001b[1;33m(\u001b[0m\u001b[0mself\u001b[0m\u001b[1;33m)\u001b[0m\u001b[1;33m:\u001b[0m\u001b[1;33m\u001b[0m\u001b[1;33m\u001b[0m\u001b[0m\n",
      "\u001b[1;32m~\\anaconda3\\lib\\site-packages\\pandas\\io\\parsers.py\u001b[0m in \u001b[0;36m_make_engine\u001b[1;34m(self, engine)\u001b[0m\n\u001b[0;32m   1176\u001b[0m     \u001b[1;32mdef\u001b[0m \u001b[0m_make_engine\u001b[0m\u001b[1;33m(\u001b[0m\u001b[0mself\u001b[0m\u001b[1;33m,\u001b[0m \u001b[0mengine\u001b[0m\u001b[1;33m=\u001b[0m\u001b[1;34m\"c\"\u001b[0m\u001b[1;33m)\u001b[0m\u001b[1;33m:\u001b[0m\u001b[1;33m\u001b[0m\u001b[1;33m\u001b[0m\u001b[0m\n\u001b[0;32m   1177\u001b[0m         \u001b[1;32mif\u001b[0m \u001b[0mengine\u001b[0m \u001b[1;33m==\u001b[0m \u001b[1;34m\"c\"\u001b[0m\u001b[1;33m:\u001b[0m\u001b[1;33m\u001b[0m\u001b[1;33m\u001b[0m\u001b[0m\n\u001b[1;32m-> 1178\u001b[1;33m             \u001b[0mself\u001b[0m\u001b[1;33m.\u001b[0m\u001b[0m_engine\u001b[0m \u001b[1;33m=\u001b[0m \u001b[0mCParserWrapper\u001b[0m\u001b[1;33m(\u001b[0m\u001b[0mself\u001b[0m\u001b[1;33m.\u001b[0m\u001b[0mf\u001b[0m\u001b[1;33m,\u001b[0m \u001b[1;33m**\u001b[0m\u001b[0mself\u001b[0m\u001b[1;33m.\u001b[0m\u001b[0moptions\u001b[0m\u001b[1;33m)\u001b[0m\u001b[1;33m\u001b[0m\u001b[1;33m\u001b[0m\u001b[0m\n\u001b[0m\u001b[0;32m   1179\u001b[0m         \u001b[1;32melse\u001b[0m\u001b[1;33m:\u001b[0m\u001b[1;33m\u001b[0m\u001b[1;33m\u001b[0m\u001b[0m\n\u001b[0;32m   1180\u001b[0m             \u001b[1;32mif\u001b[0m \u001b[0mengine\u001b[0m \u001b[1;33m==\u001b[0m \u001b[1;34m\"python\"\u001b[0m\u001b[1;33m:\u001b[0m\u001b[1;33m\u001b[0m\u001b[1;33m\u001b[0m\u001b[0m\n",
      "\u001b[1;32m~\\anaconda3\\lib\\site-packages\\pandas\\io\\parsers.py\u001b[0m in \u001b[0;36m__init__\u001b[1;34m(self, src, **kwds)\u001b[0m\n\u001b[0;32m   2006\u001b[0m         \u001b[0mkwds\u001b[0m\u001b[1;33m[\u001b[0m\u001b[1;34m\"usecols\"\u001b[0m\u001b[1;33m]\u001b[0m \u001b[1;33m=\u001b[0m \u001b[0mself\u001b[0m\u001b[1;33m.\u001b[0m\u001b[0musecols\u001b[0m\u001b[1;33m\u001b[0m\u001b[1;33m\u001b[0m\u001b[0m\n\u001b[0;32m   2007\u001b[0m \u001b[1;33m\u001b[0m\u001b[0m\n\u001b[1;32m-> 2008\u001b[1;33m         \u001b[0mself\u001b[0m\u001b[1;33m.\u001b[0m\u001b[0m_reader\u001b[0m \u001b[1;33m=\u001b[0m \u001b[0mparsers\u001b[0m\u001b[1;33m.\u001b[0m\u001b[0mTextReader\u001b[0m\u001b[1;33m(\u001b[0m\u001b[0msrc\u001b[0m\u001b[1;33m,\u001b[0m \u001b[1;33m**\u001b[0m\u001b[0mkwds\u001b[0m\u001b[1;33m)\u001b[0m\u001b[1;33m\u001b[0m\u001b[1;33m\u001b[0m\u001b[0m\n\u001b[0m\u001b[0;32m   2009\u001b[0m         \u001b[0mself\u001b[0m\u001b[1;33m.\u001b[0m\u001b[0munnamed_cols\u001b[0m \u001b[1;33m=\u001b[0m \u001b[0mself\u001b[0m\u001b[1;33m.\u001b[0m\u001b[0m_reader\u001b[0m\u001b[1;33m.\u001b[0m\u001b[0munnamed_cols\u001b[0m\u001b[1;33m\u001b[0m\u001b[1;33m\u001b[0m\u001b[0m\n\u001b[0;32m   2010\u001b[0m \u001b[1;33m\u001b[0m\u001b[0m\n",
      "\u001b[1;32mpandas\\_libs\\parsers.pyx\u001b[0m in \u001b[0;36mpandas._libs.parsers.TextReader.__cinit__\u001b[1;34m()\u001b[0m\n",
      "\u001b[1;32mpandas\\_libs\\parsers.pyx\u001b[0m in \u001b[0;36mpandas._libs.parsers.TextReader._setup_parser_source\u001b[1;34m()\u001b[0m\n",
      "\u001b[1;31mFileNotFoundError\u001b[0m: [Errno 2] No such file or directory: '../raw_data/zillow_by_city'"
     ]
    }
   ],
   "source": [
    "#bring in my first(maybe only file)\n",
    "health_data = pd.read_csv(\"../raw_data/zillow_by_city\")\n",
    "health_data.head()"
   ]
  },
  {
   "cell_type": "code",
   "execution_count": 9,
   "metadata": {},
   "outputs": [
    {
     "data": {
      "text/plain": [
       "<bound method NDFrame.describe of             Age  Gender HCCI_category HCCI_outpatient_service_type  \\\n",
       "0      All Ages  Female         Total                          NaN   \n",
       "1      All Ages  Female         Total                          NaN   \n",
       "2      All Ages  Female         Total                          NaN   \n",
       "3      All Ages  Female         Total                          NaN   \n",
       "4      All Ages  Female         Total                          NaN   \n",
       "...         ...     ...           ...                          ...   \n",
       "15991     55-64    Male            RX                          NaN   \n",
       "15992     55-64    Male            RX                          NaN   \n",
       "15993     55-64    Male            RX                          NaN   \n",
       "15994     55-64    Male            RX                          NaN   \n",
       "15995     55-64    Male            RX                          NaN   \n",
       "\n",
       "      RX_generic_brand_indicator HCCI_subcategory  Year spending_per_member  \\\n",
       "0                            NaN              NaN  2014            5,539.43   \n",
       "1                            NaN              NaN  2015            5,740.72   \n",
       "2                            NaN              NaN  2016            6,020.30   \n",
       "3                            NaN              NaN  2017            6,264.67   \n",
       "4                            NaN              NaN  2018            6,528.92   \n",
       "...                          ...              ...   ...                 ...   \n",
       "15991                    Unknown         Vitamins  2014               0.336   \n",
       "15992                    Unknown         Vitamins  2015               0.423   \n",
       "15993                    Unknown         Vitamins  2016               0.011   \n",
       "15994                    Unknown         Vitamins  2017               0.002   \n",
       "15995                    Unknown         Vitamins  2018                   0   \n",
       "\n",
       "      OOP_spending_per_member adjusted_price  ...  \\\n",
       "0                     909.512            NaN  ...   \n",
       "1                     937.693            NaN  ...   \n",
       "2                     973.714            NaN  ...   \n",
       "3                     999.487            NaN  ...   \n",
       "4                    1,038.68            NaN  ...   \n",
       "...                       ...            ...  ...   \n",
       "15991                   0.017        881.938  ...   \n",
       "15992                   0.018       1,625.91  ...   \n",
       "15993                   0.001        136.836  ...   \n",
       "15994                       0         72.738  ...   \n",
       "15995                       0         29.765  ...   \n",
       "\n",
       "      annual_pct_change_case_mix_intensity_index annual_pct_change_price  \\\n",
       "0                                          0.000                   0.000   \n",
       "1                                          0.003                   0.043   \n",
       "2                                          0.009                   0.046   \n",
       "3                                         -0.004                   0.040   \n",
       "4                                          0.001                   0.028   \n",
       "...                                          ...                     ...   \n",
       "15991                                        NaN                     NaN   \n",
       "15992                                      0.000                   0.844   \n",
       "15993                                      0.000                  -0.916   \n",
       "15994                                      0.000                  -0.468   \n",
       "15995                                      0.000                  -0.591   \n",
       "\n",
       "       annual_pct_change_utilization_per_1000  \\\n",
       "0                                       0.000   \n",
       "1                                      -0.006   \n",
       "2                                       0.002   \n",
       "3                                       0.001   \n",
       "4                                       0.014   \n",
       "...                                       ...   \n",
       "15991                                     NaN   \n",
       "15992                                  -0.317   \n",
       "15993                                  -0.702   \n",
       "15994                                  -0.699   \n",
       "15995                                  -0.920   \n",
       "\n",
       "      cumulative_pct_change_spending_per_member  \\\n",
       "0                                             0   \n",
       "1                                         0.036   \n",
       "2                                         0.087   \n",
       "3                                         0.131   \n",
       "4                                         0.179   \n",
       "...                                         ...   \n",
       "15991                                         0   \n",
       "15992                                     0.259   \n",
       "15993                                    -0.968   \n",
       "15994                                    -0.995   \n",
       "15995                                        -1   \n",
       "\n",
       "      cumulative_pct_change_OOP_spending_per_member  \\\n",
       "0                                             0.000   \n",
       "1                                             0.031   \n",
       "2                                             0.071   \n",
       "3                                             0.099   \n",
       "4                                             0.142   \n",
       "...                                             ...   \n",
       "15991                                         0.000   \n",
       "15992                                         0.050   \n",
       "15993                                        -0.941   \n",
       "15994                                        -0.981   \n",
       "15995                                        -0.997   \n",
       "\n",
       "      cumulative_pct_change_adjusted_price  \\\n",
       "0                                    0.000   \n",
       "1                                    0.040   \n",
       "2                                    0.079   \n",
       "3                                    0.126   \n",
       "4                                    0.156   \n",
       "...                                    ...   \n",
       "15991                                0.000   \n",
       "15992                                0.844   \n",
       "15993                               -0.845   \n",
       "15994                               -0.918   \n",
       "15995                               -0.966   \n",
       "\n",
       "      cumulative_pct_change_adjusted_utilization_per_1000  \\\n",
       "0                                                      0    \n",
       "1                                                 -0.003    \n",
       "2                                                  0.008    \n",
       "3                                                  0.005    \n",
       "4                                                  0.021    \n",
       "...                                                  ...    \n",
       "15991                                                  0    \n",
       "15992                                             -0.317    \n",
       "15993                                             -0.796    \n",
       "15994                                             -0.939    \n",
       "15995                                             -0.995    \n",
       "\n",
       "      cumulative_pct_change_case_mix_intensity_index  \\\n",
       "0                                              0.000   \n",
       "1                                              0.003   \n",
       "2                                              0.012   \n",
       "3                                              0.007   \n",
       "4                                              0.009   \n",
       "...                                              ...   \n",
       "15991                                          0.000   \n",
       "15992                                          0.000   \n",
       "15993                                          0.000   \n",
       "15994                                          0.000   \n",
       "15995                                          0.000   \n",
       "\n",
       "       cumulative_pct_change_price  cumulative_pct_change_utilization_per_1000  \n",
       "0                            0.000                                           0  \n",
       "1                            0.043                                      -0.006  \n",
       "2                            0.091                                      -0.003  \n",
       "3                            0.134                                      -0.002  \n",
       "4                            0.166                                       0.012  \n",
       "...                            ...                                         ...  \n",
       "15991                        0.000                                           0  \n",
       "15992                        0.844                                      -0.317  \n",
       "15993                       -0.845                                      -0.796  \n",
       "15994                       -0.918                                      -0.939  \n",
       "15995                       -0.966                                      -0.995  \n",
       "\n",
       "[15996 rows x 30 columns]>"
      ]
     },
     "execution_count": 9,
     "metadata": {},
     "output_type": "execute_result"
    }
   ],
   "source": [
    "health_data.describe"
   ]
  },
  {
   "cell_type": "code",
   "execution_count": 8,
   "metadata": {},
   "outputs": [
    {
     "data": {
      "text/plain": [
       "Index(['Age', 'Gender', 'HCCI_category', 'HCCI_outpatient_service_type',\n",
       "       'RX_generic_brand_indicator', 'HCCI_subcategory', 'Year',\n",
       "       'spending_per_member', 'OOP_spending_per_member', 'adjusted_price',\n",
       "       'adjusted_OOP_price', 'adjusted_utilization_per_1000',\n",
       "       'case_mix_intensity_index', 'price', 'OOP_price',\n",
       "       'utilization_per_1000', 'annual_pct_change_spending_per_member',\n",
       "       'annual_pct_change_OOP_spending_per_member',\n",
       "       'annual_pct_change_adjusted_price',\n",
       "       'annual_pct_change_adjusted_utilization_per_1000',\n",
       "       'annual_pct_change_case_mix_intensity_index', 'annual_pct_change_price',\n",
       "       'annual_pct_change_utilization_per_1000',\n",
       "       'cumulative_pct_change_spending_per_member',\n",
       "       'cumulative_pct_change_OOP_spending_per_member',\n",
       "       'cumulative_pct_change_adjusted_price',\n",
       "       'cumulative_pct_change_adjusted_utilization_per_1000',\n",
       "       'cumulative_pct_change_case_mix_intensity_index',\n",
       "       'cumulative_pct_change_price',\n",
       "       'cumulative_pct_change_utilization_per_1000'],\n",
       "      dtype='object')"
      ]
     },
     "execution_count": 8,
     "metadata": {},
     "output_type": "execute_result"
    }
   ],
   "source": [
    "health_data.columns"
   ]
  },
  {
   "cell_type": "code",
   "execution_count": null,
   "metadata": {},
   "outputs": [],
   "source": []
  },
  {
   "cell_type": "code",
   "execution_count": null,
   "metadata": {},
   "outputs": [],
   "source": []
  },
  {
   "cell_type": "code",
   "execution_count": null,
   "metadata": {},
   "outputs": [],
   "source": []
  },
  {
   "cell_type": "code",
   "execution_count": null,
   "metadata": {},
   "outputs": [],
   "source": []
  },
  {
   "cell_type": "code",
   "execution_count": null,
   "metadata": {},
   "outputs": [],
   "source": []
  },
  {
   "cell_type": "code",
   "execution_count": null,
   "metadata": {},
   "outputs": [],
   "source": []
  },
  {
   "cell_type": "code",
   "execution_count": null,
   "metadata": {},
   "outputs": [],
   "source": []
  },
  {
   "cell_type": "code",
   "execution_count": null,
   "metadata": {},
   "outputs": [],
   "source": []
  },
  {
   "cell_type": "code",
   "execution_count": null,
   "metadata": {},
   "outputs": [],
   "source": []
  },
  {
   "cell_type": "code",
   "execution_count": null,
   "metadata": {},
   "outputs": [],
   "source": []
  },
  {
   "cell_type": "code",
   "execution_count": null,
   "metadata": {},
   "outputs": [],
   "source": []
  },
  {
   "cell_type": "code",
   "execution_count": null,
   "metadata": {},
   "outputs": [],
   "source": []
  },
  {
   "cell_type": "code",
   "execution_count": null,
   "metadata": {},
   "outputs": [],
   "source": []
  },
  {
   "cell_type": "code",
   "execution_count": null,
   "metadata": {},
   "outputs": [],
   "source": []
  },
  {
   "cell_type": "code",
   "execution_count": null,
   "metadata": {},
   "outputs": [],
   "source": []
  },
  {
   "cell_type": "code",
   "execution_count": null,
   "metadata": {},
   "outputs": [],
   "source": []
  },
  {
   "cell_type": "code",
   "execution_count": null,
   "metadata": {},
   "outputs": [],
   "source": []
  },
  {
   "cell_type": "code",
   "execution_count": null,
   "metadata": {},
   "outputs": [],
   "source": []
  },
  {
   "cell_type": "code",
   "execution_count": null,
   "metadata": {},
   "outputs": [],
   "source": []
  },
  {
   "cell_type": "code",
   "execution_count": null,
   "metadata": {},
   "outputs": [],
   "source": []
  },
  {
   "cell_type": "code",
   "execution_count": null,
   "metadata": {},
   "outputs": [],
   "source": []
  },
  {
   "cell_type": "code",
   "execution_count": null,
   "metadata": {},
   "outputs": [],
   "source": []
  },
  {
   "cell_type": "code",
   "execution_count": null,
   "metadata": {},
   "outputs": [],
   "source": []
  }
 ],
 "metadata": {
  "kernelspec": {
   "display_name": "Python 3",
   "language": "python",
   "name": "python3"
  },
  "language_info": {
   "codemirror_mode": {
    "name": "ipython",
    "version": 3
   },
   "file_extension": ".py",
   "mimetype": "text/x-python",
   "name": "python",
   "nbconvert_exporter": "python",
   "pygments_lexer": "ipython3",
   "version": "3.8.5"
  }
 },
 "nbformat": 4,
 "nbformat_minor": 4
}
